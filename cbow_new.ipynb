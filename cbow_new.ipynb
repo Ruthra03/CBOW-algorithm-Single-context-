{
  "nbformat": 4,
  "nbformat_minor": 0,
  "metadata": {
    "colab": {
      "provenance": [],
      "authorship_tag": "ABX9TyMUJeRxXuP86E+bd2mILY/n",
      "include_colab_link": true
    },
    "kernelspec": {
      "name": "python3",
      "display_name": "Python 3"
    },
    "language_info": {
      "name": "python"
    }
  },
  "cells": [
    {
      "cell_type": "markdown",
      "metadata": {
        "id": "view-in-github",
        "colab_type": "text"
      },
      "source": [
        "<a href=\"https://colab.research.google.com/github/Ruthra03/CBOW-algorithm-Single-context-/blob/main/cbow_new.ipynb\" target=\"_parent\"><img src=\"https://colab.research.google.com/assets/colab-badge.svg\" alt=\"Open In Colab\"/></a>"
      ]
    },
    {
      "cell_type": "code",
      "execution_count": 1,
      "metadata": {
        "id": "MJH2FJ3-viR2"
      },
      "outputs": [],
      "source": [
        "import numpy as np\n",
        "import pandas as pd\n",
        "from collections import defaultdict\n",
        "from collections import Counter\n",
        "import matplotlib.pyplot as plt\n",
        "\n",
        "class CBOW:\n",
        "    def __init__(self, vocab_size,word_index, W1, W2, reverse_word_index, embedding_dim, hidden_dim, learning_rate=0.001):\n",
        "        np.random.seed(42)\n",
        "        self.vocab_size = vocab_size\n",
        "        self.embedding_dim = embedding_dim\n",
        "        self.hidden_dim = hidden_dim\n",
        "        self.learning_rate = learning_rate\n",
        "        self.word_index = word_index\n",
        "        self.reverse_word_index = reverse_word_index\n",
        "        # Initialize weights randomly or load pre-trained weights\n",
        "        #self.W1 = np.random.rand(vocab_size, hidden_dim)\n",
        "        #self.W2 = np.random.rand(hidden_dim, vocab_size)\n",
        "        self.W1 = W1\n",
        "        self.W2 = W2\n",
        "\n",
        "\n",
        "\n",
        "    def generate_one_hot(self, word_idx):\n",
        "        one_hot = np.zeros(self.vocab_size)\n",
        "        one_hot[int(word_idx)] = 1\n",
        "        return one_hot\n",
        "\n",
        "    def linear_activation(self, x):\n",
        "        return x\n",
        "\n",
        "    def softmax(self, x):\n",
        "        exp_x = np.exp(x - np.max(x))\n",
        "        return exp_x / exp_x.sum(axis=0)\n",
        "\n",
        "    def forward_pass(self, context):\n",
        "        hidden_input = np.dot(self.W1.T, context)\n",
        "        h = self.linear_activation(hidden_input)\n",
        "        u = np.dot(self.W2.T, h)\n",
        "        output_probs = self.softmax(u)\n",
        "        return h, output_probs\n",
        "\n",
        "    def backward_pass(self, context, target, h, output_probs):\n",
        "        error_output = output_probs - target\n",
        "        dW2 = np.outer(error_output, h)\n",
        "        error_hidden = np.dot(self.W2, error_output)\n",
        "        dW1 = np.outer(error_hidden, context)\n",
        "        return dW1.T, dW2.T\n",
        "\n",
        "    def update_weights(self, dW1, dW2):\n",
        "        self.W1 -= self.learning_rate * dW1\n",
        "        self.W2 -= self.learning_rate * dW2\n",
        "\n",
        "    def train(self, corpus, vocabulary=None, epochs = 1):\n",
        "        losses = []\n",
        "        for epoch in range(epochs):\n",
        "            total_loss = 0.0\n",
        "            for sentence in corpus:\n",
        "                context_words = sentence.split()[:-1]\n",
        "                target_word = sentence.split()[-1]\n",
        "\n",
        "                context_vectors = [self.generate_one_hot(self.reverse_word_index[word]) for word in context_words]\n",
        "                #print(context_vectors)\n",
        "                context = np.mean(context_vectors, axis=0)\n",
        "                target = self.generate_one_hot(self.reverse_word_index[target_word])\n",
        "                h, output_probs = self.forward_pass(context)\n",
        "                j_star = int(target.argmax())\n",
        "\n",
        "                # Calculate cross-entropy loss\n",
        "                loss = -np.log(output_probs[j_star])  # E = - ln(y)\n",
        "                total_loss += loss\n",
        "\n",
        "                dW1, dW2 = self.backward_pass(context, target, h, output_probs)\n",
        "                self.update_weights(dW1, dW2)\n",
        "\n",
        "\n",
        "            average_loss = total_loss / len(corpus)\n",
        "            losses.append(average_loss)\n",
        "        plt.plot(range(1, epochs + 1), losses, label='Average Loss')\n",
        "        plt.xlabel('Epochs')\n",
        "        plt.ylabel('Average Loss')\n",
        "        plt.title('Average Loss vs. Epochs')\n",
        "        plt.xticks(range(0, epochs + 1, 1000))  # Set x-axis ticks to be divisible by 1000\n",
        "        plt.legend()\n",
        "        plt.show()\n",
        "\n",
        "    def predict(self, input_word):\n",
        "        if input_word in self.reverse_word_index:\n",
        "            input_vector = self.generate_one_hot(self.reverse_word_index[input_word])\n",
        "            _, output_probs = self.forward_pass(input_vector)\n",
        "            predicted_word_index = np.argmax(output_probs)\n",
        "            predicted_word = self.word_index[str(predicted_word_index)]\n",
        "\n",
        "            # Format the output probabilities as specified\n",
        "            #formatted_probs = [f\"{word}: {prob:.6f}\" for word, prob in zip(self.word_index.values(), output_probs)]\n",
        "\n",
        "            return predicted_word, output_probs\n",
        "        else:\n",
        "            return \"Word not in vocabulary\", None"
      ]
    },
    {
      "cell_type": "code",
      "source": [
        "corpus = [\n",
        "    \"eat apple\",\n",
        "    \"eat banana\",\n",
        "    \"eat sapota\",\n",
        "    \"eat carrot\",\n",
        "]\n",
        "epochs = 16500\n",
        "text_corpus = ' '.join(corpus)\n",
        "W1 = np.array([[0.2,0.7,0.5],[0.3,0.2,0.5],[0.3,0.2,0.2],[0.5,0.4,0.2],[0.2,0.5,0.3]])\n",
        "W2 = np.array([[0.3,0.4,0.3,0.1,0.2],[0.3,0.2,0.1,0.1,0.4],[0.4,0.2,0.4,0.3,0.5]])\n",
        "# Tokenize the text into words\n",
        "words = text_corpus.split()\n",
        "# Count the occurrences of each word\n",
        "word_counts = Counter(words)\n",
        "\n",
        "# Sort words by their counts in descending order\n",
        "sorted_words = sorted(word_counts, key=word_counts.get, reverse=True)\n",
        "#print(sorted_words)\n",
        "\n",
        "# Create a dictionary with unique words and assign an index\n",
        "word_index = {'0': sorted_words[0]}  # Assign '0' to the most repeated word\n",
        "word_index.update({str(i + 1): word for i, word in enumerate(sorted_words[1:])})\n",
        "reverse_word_index = {value: key for key, value in word_index.items()}\n",
        "\n",
        "vocab_size = len(word_counts)\n",
        "embedding_dim = vocab_size\n",
        "hidden_dim = 3\n",
        "\n",
        "cbow = CBOW(vocab_size, word_index, W1, W2, reverse_word_index, embedding_dim=embedding_dim, hidden_dim=hidden_dim)\n",
        "\n",
        "cbow.train(corpus, sorted_words, epochs)"
      ],
      "metadata": {
        "id": "5hWhVVxgvwRc",
        "colab": {
          "base_uri": "https://localhost:8080/",
          "height": 472
        },
        "outputId": "e3bb17b8-d7c8-4cfa-afc6-e6bbf4b3971d"
      },
      "execution_count": 2,
      "outputs": [
        {
          "output_type": "display_data",
          "data": {
            "text/plain": [
              "<Figure size 640x480 with 1 Axes>"
            ],
            "image/png": "[encoded data removed]"
          },
          "metadata": {}
        }
      ]
    },
    {
      "cell_type": "code",
      "source": [
        "context = \"eat\"\n",
        "predicted_word, probs = cbow.predict(context)\n",
        "print(f\"Predicted word after '{context}': {predicted_word}\")\n",
        "print(\"Probabilities:\")\n",
        "for i in range(vocab_size):\n",
        "  print(f\"P({word_index[str(i)]}|{context})= {probs[i]}\")"
      ],
      "metadata": {
        "colab": {
          "base_uri": "https://localhost:8080/"
        },
        "id": "-IrA-t62v-UD",
        "outputId": "4ea0692c-611d-498c-95c5-e41fc563f440"
      },
      "execution_count": 3,
      "outputs": [
        {
          "output_type": "stream",
          "name": "stdout",
          "text": [
            "Predicted word after 'eat': carrot\n",
            "Probabilities:\n",
            "P(eat|eat)= 0.002098894793351186\n",
            "P(apple|eat)= 0.2490426585954147\n",
            "P(banana|eat)= 0.24933212376290195\n",
            "P(sapota|eat)= 0.2496214290326232\n",
            "P(carrot|eat)= 0.24990489381570902\n"
          ]
        }
      ]
    },
    {
      "cell_type": "code",
      "source": [],
      "metadata": {
        "id": "q1Njuy4HwD6k"
      },
      "execution_count": null,
      "outputs": []
    }
  ]
}